{
 "cells": [
  {
   "cell_type": "code",
   "execution_count": null,
   "metadata": {},
   "outputs": [],
   "source": [
    "import cv2\n",
    "import numpy as np\n",
    "import matplotlib.pyplot as plt\n"
   ]
  },
  {
   "cell_type": "code",
   "execution_count": null,
   "metadata": {},
   "outputs": [],
   "source": [
    "# sourcery skip: for-append-to-extend\n",
    "images = [\n",
    "    cv2.imread(\"./images/f2.png\"),\n",
    "]"
   ]
  },
  {
   "cell_type": "code",
   "execution_count": null,
   "metadata": {},
   "outputs": [],
   "source": [
    "images = images[:1]\n",
    "for i in range(45):\n",
    "    i = i/5\n",
    "    i = i**2\n",
    "    images.append((images[-1] + np.random.uniform(-i, i, images[0].shape)).astype(np.uint8))"
   ]
  },
  {
   "cell_type": "code",
   "execution_count": null,
   "metadata": {},
   "outputs": [],
   "source": [
    "# plot 10 images\n",
    "fig, axs = plt.subplots(2, 5, figsize=(20, 8))\n",
    "for i, ax in enumerate(axs.flatten()):\n",
    "    ax.imshow(cv2.cvtColor(images[i*len(images)//10], cv2.COLOR_BGR2RGB))\n",
    "    ax.set_title(f\"Image {i*len(images)//10+1}\")\n",
    "    ax.axis(\"off\")\n",
    "\n",
    "plt.show()"
   ]
  },
  {
   "cell_type": "code",
   "execution_count": null,
   "metadata": {},
   "outputs": [],
   "source": [
    "# convert list of images to gif using cv2\n",
    "for i, image in enumerate(images):\n",
    "    cv2.imwrite(f\"./images/build/image_{len(images)-i}.png\", image)"
   ]
  }
 ],
 "metadata": {
  "kernelspec": {
   "display_name": "Python 3.9.2 64-bit",
   "language": "python",
   "name": "python3"
  },
  "language_info": {
   "codemirror_mode": {
    "name": "ipython",
    "version": 3
   },
   "file_extension": ".py",
   "mimetype": "text/x-python",
   "name": "python",
   "nbconvert_exporter": "python",
   "pygments_lexer": "ipython3",
   "version": "3.11.0"
  },
  "orig_nbformat": 4,
  "vscode": {
   "interpreter": {
    "hash": "f695a9efeb395a0e4b0768008d5a5d0f91d02290bc1f978fdf3be20bcae9e685"
   }
  }
 },
 "nbformat": 4,
 "nbformat_minor": 2
}
